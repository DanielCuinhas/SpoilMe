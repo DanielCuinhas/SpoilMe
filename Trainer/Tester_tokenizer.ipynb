{
 "cells": [
  {
   "cell_type": "code",
   "execution_count": 1,
   "metadata": {},
   "outputs": [
    {
     "name": "stderr",
     "output_type": "stream",
     "text": [
      "Using TensorFlow backend.\n",
      "/media/Datos/Documentos/Python/anacondas/anaconda3/lib/python3.7/site-packages/dask/config.py:168: YAMLLoadWarning: calling yaml.load() without Loader=... is deprecated, as the default Loader is unsafe. Please read https://msg.pyyaml.org/load for full details.\n",
      "  data = yaml.load(f.read()) or {}\n"
     ]
    }
   ],
   "source": [
    "from tokenizers.implementations import ByteLevelBPETokenizer\n",
    "import re\n",
    "import unidecode\n",
    "import numpy as np\n",
    "from pprint import pprint\n",
    "from keras.models import load_model\n",
    "import json"
   ]
  },
  {
   "cell_type": "code",
   "execution_count": 2,
   "metadata": {},
   "outputs": [
    {
     "name": "stderr",
     "output_type": "stream",
     "text": [
      "WARNING: Logging before flag parsing goes to stderr.\n",
      "W0419 20:52:41.772816 139909460760384 deprecation_wrapper.py:119] From /media/Datos/Documentos/Python/anacondas/anaconda3/lib/python3.7/site-packages/keras/backend/tensorflow_backend.py:58: The name tf.get_default_graph is deprecated. Please use tf.compat.v1.get_default_graph instead.\n",
      "\n",
      "W0419 20:52:41.775372 139909460760384 deprecation_wrapper.py:119] From /media/Datos/Documentos/Python/anacondas/anaconda3/lib/python3.7/site-packages/keras/backend/tensorflow_backend.py:442: The name tf.placeholder is deprecated. Please use tf.compat.v1.placeholder instead.\n",
      "\n",
      "W0419 20:52:41.778656 139909460760384 deprecation_wrapper.py:119] From /media/Datos/Documentos/Python/anacondas/anaconda3/lib/python3.7/site-packages/keras/backend/tensorflow_backend.py:3543: The name tf.random_uniform is deprecated. Please use tf.random.uniform instead.\n",
      "\n",
      "W0419 20:52:41.851371 139909460760384 deprecation_wrapper.py:119] From /media/Datos/Documentos/Python/anacondas/anaconda3/lib/python3.7/site-packages/keras/backend/tensorflow_backend.py:153: The name tf.get_default_session is deprecated. Please use tf.compat.v1.get_default_session instead.\n",
      "\n",
      "W0419 20:52:41.852221 139909460760384 deprecation_wrapper.py:119] From /media/Datos/Documentos/Python/anacondas/anaconda3/lib/python3.7/site-packages/keras/backend/tensorflow_backend.py:158: The name tf.ConfigProto is deprecated. Please use tf.compat.v1.ConfigProto instead.\n",
      "\n",
      "W0419 20:52:41.911569 139909460760384 deprecation_wrapper.py:119] From /media/Datos/Documentos/Python/anacondas/anaconda3/lib/python3.7/site-packages/keras/optimizers.py:711: The name tf.train.Optimizer is deprecated. Please use tf.compat.v1.train.Optimizer instead.\n",
      "\n",
      "W0419 20:52:41.923084 139909460760384 deprecation.py:323] From /media/Datos/Documentos/Python/anacondas/anaconda3/lib/python3.7/site-packages/tensorflow/python/ops/nn_impl.py:180: add_dispatch_support.<locals>.wrapper (from tensorflow.python.ops.array_ops) is deprecated and will be removed in a future version.\n",
      "Instructions for updating:\n",
      "Use tf.where in 2.0, which has the same broadcast rule as np.where\n",
      "W0419 20:52:42.116117 139909460760384 deprecation.py:506] From /media/Datos/Documentos/Python/anacondas/anaconda3/lib/python3.7/site-packages/keras/backend/tensorflow_backend.py:625: calling Constant.__init__ (from tensorflow.python.ops.init_ops) with dtype is deprecated and will be removed in a future version.\n",
      "Instructions for updating:\n",
      "Call initializer instance with the dtype argument instead of passing it to the constructor\n"
     ]
    }
   ],
   "source": [
    "model=load_model('results/tokenizer/model_weights_best.h5')\n"
   ]
  },
  {
   "cell_type": "code",
   "execution_count": 3,
   "metadata": {},
   "outputs": [],
   "source": [
    "def clean_str(s):\n",
    "    s = unidecode.unidecode(s)\n",
    "    s = re.sub(r'\\t','',s)\n",
    "    s = re.sub(r'\\r','',s)\n",
    "    s = s.lower()\n",
    "    s = re.sub(r'[^a-z0-9]',' ',s)\n",
    "    s = re.sub(r' +',' ',s)\n",
    "    return s.strip()\n"
   ]
  },
  {
   "cell_type": "code",
   "execution_count": 4,
   "metadata": {},
   "outputs": [],
   "source": [
    "tokenizer = ByteLevelBPETokenizer(\n",
    "    \"results/tokenizer/spoilers-vocab.json\",\n",
    "    \"results/tokenizer/spoilers-merges.txt\",\n",
    ")"
   ]
  },
  {
   "cell_type": "code",
   "execution_count": 5,
   "metadata": {},
   "outputs": [],
   "source": [
    "clf_token = tokenizer.token_to_id('[CLS]')  # classifier token\n",
    "pad_token = tokenizer.token_to_id('[PAD]')  # pad token\n",
    "max_length = 200\n",
    "\n",
    "def token2id(text):\n",
    "    \"Convert text (item[0]) to sequence of IDs and label (item[1]) to integer\"\n",
    "    inputs = tokenizer.encode(text).ids\n",
    "    # Trim or pad dataset\n",
    "    if len(inputs) >= max_length:\n",
    "        inputs = inputs[:max_length - 1]\n",
    "        ids = inputs + [clf_token]\n",
    "    else:\n",
    "        pad = [pad_token] * (max_length - len(inputs) - 1)\n",
    "        ids = inputs + [clf_token] + pad\n",
    "    return ids\n",
    "\n",
    "def text2tensor(texts):\n",
    "    out=[]\n",
    "    for text in texts:\n",
    "        out.append(token2id(text))\n",
    "    out = np.array(out)#.transpose(1,0)\n",
    "    return out"
   ]
  },
  {
   "cell_type": "code",
   "execution_count": 6,
   "metadata": {},
   "outputs": [],
   "source": [
    "def spoilme(s):\n",
    "    s = re.sub(r'\\n','.',s)\n",
    "    s = s.split('.')\n",
    "    s = [clean_str(i) for i in s]\n",
    "    s = [f for f in s if f]\n",
    "    s_ = text2tensor(s)\n",
    "    predictions = model.predict(s_)\n",
    "    predictions_ = predictions.argmax(axis=1)\n",
    "    result = list(zip(s, predictions_))\n",
    "    spoilers = [r[0] for r in result if r[1]==1]\n",
    "    print(len(spoilers)/len(result))\n",
    "    return spoilers , predictions"
   ]
  },
  {
   "cell_type": "code",
   "execution_count": 21,
   "metadata": {},
   "outputs": [],
   "source": [
    "s='''\n",
    "Sinopsis\n",
    "Una historia multigeneracional de una familia taiwanesa que abarca desde 1950 hasta la actualidad. (FILMAFFINITY)\n",
    "Críticas\n",
    "\"Un drama de inmigrantes emotivo y magnífico (...) Yang imbuye a su historia, honesta y semi-ficcional, con las evocadoras tradiciones narrativas del cine asiático moderno, desde Wong Kar Wai hasta Edward Yang\" \n",
    "Eric Kohn: IndieWire \n",
    "\"Soporífera, caótica y poco reflexiva (...) Parece resuelta a no desarrollar ninguno de sus personajes secundarios\" \n",
    "Inkoo Kang: The Hollywood Reporter \n",
    "\"Romántica, reflexiva y desgarradora, todo a la vez (...) Un excelente debut de Yang\" \n",
    "Sandy Schaefer: Screen Rant \n",
    "\"En lo que se destaca de otros dramas de su estilo, es en su conmovedora exploración de las consecuencias emocionales, pocas veces vistas, de los que persiguen decididamente el Sueño Americano\" \n",
    "Katie Rife: AV Club \n",
    "\"Aunque imperfecta, describe un aspecto de la experiencia [inmigratoria] de primera generación en América, que rara vez se ha captado en pantalla\" \n",
    "Peter Debruge: Variety \n",
    "\"Hay una verdadera tensión emocional en la manera en la que Yang conjura el pasado (...) Una película seria y bien interpretada sobre el sacrificio y el arrepentimiento (...) Puntuación: ★★★ (sobre 5)\" \n",
    "Peter Bradshaw: The Guardian \n",
    "\"Es fácil entender que la decepción de su protagonista podría desgastarle, pero la frialdad con la que trata a la mujer resulta abrupta e injustificada. La obra es especialmente tosca cuando aborda escenas en la actualidad.\" \n",
    "Kristen Yoonsoo Kim: The New York Times \n",
    "\"Una película consciente, emotiva y en algunos momentos realmente brillante que demuestra el potencial de Yang en el mundo del cine.\" \n",
    "Lo único un poco malo es cuando Darth Vader le dice a Luke que es su padre. Leia muered haci la mitad7\n",
    "\n",
    "\n",
    "'''"
   ]
  },
  {
   "cell_type": "code",
   "execution_count": 22,
   "metadata": {},
   "outputs": [
    {
     "name": "stdout",
     "output_type": "stream",
     "text": [
      "0.07407407407407407\n"
     ]
    },
    {
     "data": {
      "text/plain": [
       "(['lo unico un poco malo es cuando darth vader le dice a luke que es su padre',\n",
       "  'leia muered haci la mitad7'],\n",
       " array([[0.9368215 , 0.06403267],\n",
       "        [0.5793802 , 0.42037097],\n",
       "        [0.8974633 , 0.10385913],\n",
       "        [0.9163651 , 0.08476657],\n",
       "        [0.9051142 , 0.09559482],\n",
       "        [0.8914978 , 0.10788915],\n",
       "        [0.9172055 , 0.08380356],\n",
       "        [0.9769381 , 0.02328405],\n",
       "        [0.8296634 , 0.17111143],\n",
       "        [0.78581494, 0.2166293 ],\n",
       "        [0.8587893 , 0.14198062],\n",
       "        [0.93829453, 0.06232443],\n",
       "        [0.9290909 , 0.07164249],\n",
       "        [0.8019627 , 0.19442189],\n",
       "        [0.7328732 , 0.2697453 ],\n",
       "        [0.74993646, 0.2475591 ],\n",
       "        [0.8870927 , 0.11401105],\n",
       "        [0.601317  , 0.39838186],\n",
       "        [0.7857888 , 0.21435952],\n",
       "        [0.9499253 , 0.05067292],\n",
       "        [0.63848186, 0.36454695],\n",
       "        [0.5397742 , 0.45699012],\n",
       "        [0.8482833 , 0.15229267],\n",
       "        [0.55384046, 0.44857398],\n",
       "        [0.97308975, 0.02662445],\n",
       "        [0.05387169, 0.9461588 ],\n",
       "        [0.21040423, 0.79156184]], dtype=float32))"
      ]
     },
     "execution_count": 22,
     "metadata": {},
     "output_type": "execute_result"
    }
   ],
   "source": [
    "spoilme(s)"
   ]
  },
  {
   "cell_type": "code",
   "execution_count": null,
   "metadata": {},
   "outputs": [],
   "source": []
  }
 ],
 "metadata": {
  "kernelspec": {
   "display_name": "Python 3",
   "language": "python",
   "name": "python3"
  },
  "language_info": {
   "codemirror_mode": {
    "name": "ipython",
    "version": 3
   },
   "file_extension": ".py",
   "mimetype": "text/x-python",
   "name": "python",
   "nbconvert_exporter": "python",
   "pygments_lexer": "ipython3",
   "version": "3.7.4"
  }
 },
 "nbformat": 4,
 "nbformat_minor": 2
}
