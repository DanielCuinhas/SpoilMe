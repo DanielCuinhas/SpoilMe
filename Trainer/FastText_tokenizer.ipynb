{
 "cells": [
  {
   "cell_type": "code",
   "execution_count": 1,
   "metadata": {},
   "outputs": [],
   "source": [
    "from tokenizers.implementations import ByteLevelBPETokenizer"
   ]
  },
  {
   "cell_type": "code",
   "execution_count": 2,
   "metadata": {},
   "outputs": [
    {
     "name": "stderr",
     "output_type": "stream",
     "text": [
      "Using TensorFlow backend.\n",
      "/media/Datos/Documentos/Python/anacondas/anaconda3/lib/python3.7/site-packages/dask/config.py:168: YAMLLoadWarning: calling yaml.load() without Loader=... is deprecated, as the default Loader is unsafe. Please read https://msg.pyyaml.org/load for full details.\n",
      "  data = yaml.load(f.read()) or {}\n"
     ]
    }
   ],
   "source": [
    "import numpy as np\n",
    "import pandas as pd\n",
    "from sklearn.metrics import f1_score,recall_score,precision_score, accuracy_score\n",
    "from sklearn.metrics import roc_auc_score, classification_report, confusion_matrix\n",
    "from keras.preprocessing.sequence import pad_sequences\n",
    "from keras.utils.np_utils import to_categorical\n",
    "from keras.layers import Embedding, GlobalAveragePooling1D, Dense\n",
    "from keras.models import Sequential\n",
    "from keras.callbacks import EarlyStopping, ModelCheckpoint\n",
    "import itertools\n",
    "from collections import Counter\n",
    "from keras.models import load_model\n"
   ]
  },
  {
   "cell_type": "code",
   "execution_count": 3,
   "metadata": {},
   "outputs": [],
   "source": [
    "train = pd.read_csv('data/train.csv')\n",
    "val = pd.read_csv('data/val.csv')\n",
    "test = pd.read_csv('data/test.csv')"
   ]
  },
  {
   "cell_type": "code",
   "execution_count": 4,
   "metadata": {},
   "outputs": [],
   "source": [
    "all_train_text = ' '.join(train.text.tolist())"
   ]
  },
  {
   "cell_type": "code",
   "execution_count": 5,
   "metadata": {},
   "outputs": [],
   "source": [
    "with open('data/train_text.txt','w') as f:\n",
    "    f.write(all_train_text)"
   ]
  },
  {
   "cell_type": "code",
   "execution_count": 6,
   "metadata": {},
   "outputs": [],
   "source": [
    "tokenizer_ = ByteLevelBPETokenizer()"
   ]
  },
  {
   "cell_type": "code",
   "execution_count": 7,
   "metadata": {},
   "outputs": [
    {
     "data": {
      "text/plain": [
       "['results/tokenizer/spoilers-vocab.json',\n",
       " 'results/tokenizer/spoilers-merges.txt']"
      ]
     },
     "execution_count": 7,
     "metadata": {},
     "output_type": "execute_result"
    }
   ],
   "source": [
    "# Customize training\n",
    "tokenizer_.train(files='train_text.txt', vocab_size=50000, min_frequency=2, special_tokens=[\n",
    "    \"[PAD]\",\n",
    "    \"[UNK]\",\n",
    "    \"[CLS]\",\n",
    "    \"[SEP]\",\n",
    "    \"[MASK]\"\n",
    "])\n",
    "\n",
    "tokenizer_.save(\"results/tokenizer/\", \"spoilers\")\n"
   ]
  },
  {
   "cell_type": "code",
   "execution_count": 8,
   "metadata": {},
   "outputs": [],
   "source": [
    "tokenizer = ByteLevelBPETokenizer(\n",
    "    \"results/tokenizer/spoilers-vocab.json\",\n",
    "    \"results/tokenizer/spoilers-merges.txt\",\n",
    ")"
   ]
  },
  {
   "cell_type": "code",
   "execution_count": 9,
   "metadata": {},
   "outputs": [],
   "source": [
    "clf_token = tokenizer.token_to_id('[CLS]')  # classifier token\n",
    "pad_token = tokenizer.token_to_id('[PAD]')  # pad token\n",
    "max_length = 200\n",
    "\n",
    "def token2id(text):\n",
    "    \"Convert text (item[0]) to sequence of IDs and label (item[1]) to integer\"\n",
    "    inputs = tokenizer.encode(text).ids\n",
    "    # Trim or pad dataset\n",
    "    if len(inputs) >= max_length:\n",
    "        inputs = inputs[:max_length - 1]\n",
    "        ids = inputs + [clf_token]\n",
    "    else:\n",
    "        pad = [pad_token] * (max_length - len(inputs) - 1)\n",
    "        ids = inputs + [clf_token] + pad\n",
    "    return ids\n",
    "\n",
    "def text2tensor(texts):\n",
    "    out=[]\n",
    "    for text in texts:\n",
    "        out.append(token2id(text))\n",
    "    out = np.array(out)#.transpose(1,0)\n",
    "    return out"
   ]
  },
  {
   "cell_type": "code",
   "execution_count": 10,
   "metadata": {},
   "outputs": [],
   "source": [
    "reviews_train = train.text.tolist()\n",
    "reviews_val = val.text.tolist()\n",
    "reviews_test = test.text.tolist()"
   ]
  },
  {
   "cell_type": "code",
   "execution_count": 11,
   "metadata": {},
   "outputs": [],
   "source": [
    "x_train = text2tensor(reviews_train)\n",
    "x_val = text2tensor(reviews_val)\n",
    "x_test = text2tensor(reviews_test)"
   ]
  },
  {
   "cell_type": "code",
   "execution_count": 12,
   "metadata": {},
   "outputs": [
    {
     "data": {
      "text/plain": [
       "((76096, 200), (19024, 200), (23781, 200))"
      ]
     },
     "execution_count": 12,
     "metadata": {},
     "output_type": "execute_result"
    }
   ],
   "source": [
    "x_train.shape, x_val.shape, x_test.shape"
   ]
  },
  {
   "cell_type": "code",
   "execution_count": 13,
   "metadata": {},
   "outputs": [],
   "source": [
    "y_train = train.spoiler.values\n",
    "y_train = to_categorical(y_train)\n",
    "\n",
    "y_val = val.spoiler.values\n",
    "y_val = to_categorical(y_val)\n",
    "\n",
    "y_test = test.spoiler.values\n",
    "y_test = to_categorical(y_test)"
   ]
  },
  {
   "cell_type": "code",
   "execution_count": 14,
   "metadata": {},
   "outputs": [
    {
     "name": "stdout",
     "output_type": "stream",
     "text": [
      "Number of positive and negative reviews in traing and validation set\n",
      "[49706. 26390.]\n",
      "[15386.  8395.]\n"
     ]
    }
   ],
   "source": [
    "\n",
    "print('Number of positive and negative reviews in traing and validation set')\n",
    "print(y_train.sum(axis=0))\n",
    "print(y_test.sum(axis=0))"
   ]
  },
  {
   "cell_type": "code",
   "execution_count": 15,
   "metadata": {},
   "outputs": [
    {
     "name": "stderr",
     "output_type": "stream",
     "text": [
      "WARNING: Logging before flag parsing goes to stderr.\n",
      "W0419 20:49:40.235413 140519147849536 deprecation_wrapper.py:119] From /media/Datos/Documentos/Python/anacondas/anaconda3/lib/python3.7/site-packages/keras/backend/tensorflow_backend.py:58: The name tf.get_default_graph is deprecated. Please use tf.compat.v1.get_default_graph instead.\n",
      "\n",
      "W0419 20:49:40.238693 140519147849536 deprecation_wrapper.py:119] From /media/Datos/Documentos/Python/anacondas/anaconda3/lib/python3.7/site-packages/keras/backend/tensorflow_backend.py:442: The name tf.placeholder is deprecated. Please use tf.compat.v1.placeholder instead.\n",
      "\n",
      "W0419 20:49:40.242347 140519147849536 deprecation_wrapper.py:119] From /media/Datos/Documentos/Python/anacondas/anaconda3/lib/python3.7/site-packages/keras/backend/tensorflow_backend.py:3543: The name tf.random_uniform is deprecated. Please use tf.random.uniform instead.\n",
      "\n",
      "W0419 20:49:40.299147 140519147849536 deprecation_wrapper.py:119] From /media/Datos/Documentos/Python/anacondas/anaconda3/lib/python3.7/site-packages/keras/optimizers.py:711: The name tf.train.Optimizer is deprecated. Please use tf.compat.v1.train.Optimizer instead.\n",
      "\n",
      "W0419 20:49:40.329323 140519147849536 deprecation_wrapper.py:119] From /media/Datos/Documentos/Python/anacondas/anaconda3/lib/python3.7/site-packages/keras/backend/tensorflow_backend.py:2819: The name tf.log is deprecated. Please use tf.math.log instead.\n",
      "\n",
      "W0419 20:49:40.336786 140519147849536 deprecation.py:323] From /media/Datos/Documentos/Python/anacondas/anaconda3/lib/python3.7/site-packages/tensorflow/python/ops/nn_impl.py:180: add_dispatch_support.<locals>.wrapper (from tensorflow.python.ops.array_ops) is deprecated and will be removed in a future version.\n",
      "Instructions for updating:\n",
      "Use tf.where in 2.0, which has the same broadcast rule as np.where\n"
     ]
    },
    {
     "name": "stdout",
     "output_type": "stream",
     "text": [
      "_________________________________________________________________\n",
      "Layer (type)                 Output Shape              Param #   \n",
      "=================================================================\n",
      "embedding_1 (Embedding)      (None, None, 16)          800000    \n",
      "_________________________________________________________________\n",
      "global_average_pooling1d_1 ( (None, 16)                0         \n",
      "_________________________________________________________________\n",
      "dense_1 (Dense)              (None, 16)                272       \n",
      "_________________________________________________________________\n",
      "dense_2 (Dense)              (None, 2)                 34        \n",
      "=================================================================\n",
      "Total params: 800,306\n",
      "Trainable params: 800,306\n",
      "Non-trainable params: 0\n",
      "_________________________________________________________________\n"
     ]
    }
   ],
   "source": [
    "model = Sequential()\n",
    "model.add(Embedding(tokenizer.get_vocab_size(), 16))\n",
    "model.add(GlobalAveragePooling1D())\n",
    "model.add(Dense(16, activation='relu'))\n",
    "model.add(Dense(2, activation='sigmoid'))\n",
    "\n",
    "model.summary()\n",
    "\n",
    "model.compile(optimizer='adam',\n",
    "              loss='binary_crossentropy',\n",
    "              metrics=['accuracy'])\n"
   ]
  },
  {
   "cell_type": "code",
   "execution_count": 16,
   "metadata": {},
   "outputs": [],
   "source": [
    "calls = [EarlyStopping(monitor='val_loss', patience=2),\n",
    "        ModelCheckpoint('results/tokenizer/model_weights_best.h5', monitor='val_loss', save_best_only=True)]"
   ]
  },
  {
   "cell_type": "code",
   "execution_count": 17,
   "metadata": {},
   "outputs": [
    {
     "name": "stderr",
     "output_type": "stream",
     "text": [
      "W0419 20:49:47.235413 140519147849536 deprecation_wrapper.py:119] From /media/Datos/Documentos/Python/anacondas/anaconda3/lib/python3.7/site-packages/keras/backend/tensorflow_backend.py:899: The name tf.assign_add is deprecated. Please use tf.compat.v1.assign_add instead.\n",
      "\n",
      "W0419 20:49:47.252111 140519147849536 deprecation.py:506] From /media/Datos/Documentos/Python/anacondas/anaconda3/lib/python3.7/site-packages/keras/backend/tensorflow_backend.py:625: calling Constant.__init__ (from tensorflow.python.ops.init_ops) with dtype is deprecated and will be removed in a future version.\n",
      "Instructions for updating:\n",
      "Call initializer instance with the dtype argument instead of passing it to the constructor\n"
     ]
    },
    {
     "name": "stdout",
     "output_type": "stream",
     "text": [
      "Train on 76096 samples, validate on 19024 samples\n",
      "Epoch 1/100\n",
      "76096/76096 [==============================] - 17s - loss: 0.5220 - acc: 0.7443 - val_loss: 0.4341 - val_acc: 0.7963\n",
      "Epoch 2/100\n",
      "76096/76096 [==============================] - 16s - loss: 0.3740 - acc: 0.8365 - val_loss: 0.3699 - val_acc: 0.8385\n",
      "Epoch 3/100\n",
      "76096/76096 [==============================] - 16s - loss: 0.3172 - acc: 0.8657 - val_loss: 0.3551 - val_acc: 0.8527\n",
      "Epoch 4/100\n",
      "76096/76096 [==============================] - 16s - loss: 0.2828 - acc: 0.8829 - val_loss: 0.3460 - val_acc: 0.8553\n",
      "Epoch 5/100\n",
      "76096/76096 [==============================] - 17s - loss: 0.2562 - acc: 0.8965 - val_loss: 0.3499 - val_acc: 0.8571\n",
      "Epoch 6/100\n",
      "76096/76096 [==============================] - 17s - loss: 0.2338 - acc: 0.9078 - val_loss: 0.3649 - val_acc: 0.8505\n",
      "Epoch 7/100\n",
      "76096/76096 [==============================] - 17s - loss: 0.2151 - acc: 0.9160 - val_loss: 0.3681 - val_acc: 0.8533\n"
     ]
    },
    {
     "data": {
      "text/plain": [
       "<keras.callbacks.History at 0x7fccd4db7290>"
      ]
     },
     "execution_count": 17,
     "metadata": {},
     "output_type": "execute_result"
    }
   ],
   "source": [
    "model.fit(x_train, y_train, \n",
    "          validation_data=(x_val, y_val),\n",
    "          callbacks=calls,\n",
    "          epochs=100, \n",
    "          batch_size=50)"
   ]
  },
  {
   "cell_type": "code",
   "execution_count": 18,
   "metadata": {},
   "outputs": [
    {
     "data": {
      "text/plain": [
       "[0.3469832340926389, 0.8535595643606074]"
      ]
     },
     "execution_count": 18,
     "metadata": {},
     "output_type": "execute_result"
    }
   ],
   "source": [
    "model=load_model('results/tokenizer/model_weights_best.h5')\n",
    "\n",
    "model.evaluate(x_test, y_test, verbose=0)"
   ]
  },
  {
   "cell_type": "code",
   "execution_count": 19,
   "metadata": {},
   "outputs": [],
   "source": [
    "preds_round = model.predict(x_test).round().argmax(axis=1)\n",
    "y_test_round = y_test.argmax(axis=1)"
   ]
  },
  {
   "cell_type": "code",
   "execution_count": 20,
   "metadata": {},
   "outputs": [],
   "source": [
    "precision = precision_score(y_test_round, preds_round)\n",
    "recall = recall_score(y_test_round, preds_round)\n",
    "f1 = f1_score(y_test_round, preds_round)\n",
    "cnf_test = confusion_matrix(y_test_round, preds_round)\n",
    "auc = roc_auc_score(y_test_round, preds_round)"
   ]
  },
  {
   "cell_type": "code",
   "execution_count": 21,
   "metadata": {},
   "outputs": [
    {
     "data": {
      "text/plain": [
       "0.8518146607373404"
      ]
     },
     "execution_count": 21,
     "metadata": {},
     "output_type": "execute_result"
    }
   ],
   "source": [
    "precision"
   ]
  },
  {
   "cell_type": "code",
   "execution_count": 22,
   "metadata": {},
   "outputs": [
    {
     "data": {
      "text/plain": [
       "0.7073257891602144"
      ]
     },
     "execution_count": 22,
     "metadata": {},
     "output_type": "execute_result"
    }
   ],
   "source": [
    "recall"
   ]
  },
  {
   "cell_type": "code",
   "execution_count": 23,
   "metadata": {},
   "outputs": [
    {
     "data": {
      "text/plain": [
       "0.7728751789665494"
      ]
     },
     "execution_count": 23,
     "metadata": {},
     "output_type": "execute_result"
    }
   ],
   "source": [
    "f1"
   ]
  },
  {
   "cell_type": "code",
   "execution_count": 24,
   "metadata": {},
   "outputs": [
    {
     "data": {
      "text/plain": [
       "array([[14353,  1033],\n",
       "       [ 2457,  5938]])"
      ]
     },
     "execution_count": 24,
     "metadata": {},
     "output_type": "execute_result"
    }
   ],
   "source": [
    "cnf_test"
   ]
  },
  {
   "cell_type": "code",
   "execution_count": 25,
   "metadata": {},
   "outputs": [
    {
     "data": {
      "text/plain": [
       "0.8200934158331944"
      ]
     },
     "execution_count": 25,
     "metadata": {},
     "output_type": "execute_result"
    }
   ],
   "source": [
    "auc"
   ]
  },
  {
   "cell_type": "code",
   "execution_count": 26,
   "metadata": {},
   "outputs": [],
   "source": [
    "import re\n",
    "import unidecode\n",
    "from pprint import pprint\n",
    "\n",
    "def clean_str(s):\n",
    "    \n",
    "    s = unidecode.unidecode(s)\n",
    "    s = re.sub(r'\\t','',s)\n",
    "    s = re.sub(r'\\r','',s)\n",
    "    s = s.lower()\n",
    "    s = re.sub(r'[^a-z0-9]',' ',s)\n",
    "    s = re.sub(r' +',' ',s)\n",
    "\n",
    "    return s.strip()"
   ]
  },
  {
   "cell_type": "code",
   "execution_count": 27,
   "metadata": {},
   "outputs": [],
   "source": [
    "def spoilme(s):\n",
    "    s = re.sub(r'\\n','.',s)\n",
    "    s = s.split('.')\n",
    "    s = [clean_str(i) for i in s]\n",
    "    s = [f for f in s if f]\n",
    "    s_ = text2tensor(s)\n",
    "    predictions = model.predict(s_)\n",
    "    predictions_ = predictions.argmax(axis=1)\n",
    "    result = list(zip(s, predictions_))\n",
    "    spoilers = [r[0] for r in result if r[1]==1]\n",
    "    print(len(spoilers)/len(result))\n",
    "    return spoilers , predictions"
   ]
  },
  {
   "cell_type": "code",
   "execution_count": 28,
   "metadata": {},
   "outputs": [],
   "source": [
    "s='''\n",
    "\n",
    "Tras haber pasado la mayor parte de su vida explorando la jungla junto a sus padres, nada podría haber preparado a Dora para la aventura más peligrosa a la que jamás se ha enfrentado: ¡el instituto!. Exploradora hasta el final, Dora no tarda en ponerse al frente de un equipo formado por Botas (su mejor amigo, un mono), Diego, un misterioso habitante de la jungla y un desorganizado grupo de adolescentes en una aventura en la que deberán salvar a sus padres y resolver el misterio oculto tras una ciudad perdida de oro.\n",
    "\n",
    "'''"
   ]
  },
  {
   "cell_type": "code",
   "execution_count": 29,
   "metadata": {},
   "outputs": [
    {
     "name": "stdout",
     "output_type": "stream",
     "text": [
      "1.0\n"
     ]
    },
    {
     "data": {
      "text/plain": [
       "(['tras haber pasado la mayor parte de su vida explorando la jungla junto a sus padres nada podria haber preparado a dora para la aventura mas peligrosa a la que jamas se ha enfrentado el instituto',\n",
       "  'exploradora hasta el final dora no tarda en ponerse al frente de un equipo formado por botas su mejor amigo un mono diego un misterioso habitante de la jungla y un desorganizado grupo de adolescentes en una aventura en la que deberan salvar a sus padres y resolver el misterio oculto tras una ciudad perdida de oro'],\n",
       " array([[0.12715074, 0.86992395],\n",
       "        [0.14945368, 0.8437836 ]], dtype=float32))"
      ]
     },
     "execution_count": 29,
     "metadata": {},
     "output_type": "execute_result"
    }
   ],
   "source": [
    "spoilme(s)"
   ]
  },
  {
   "cell_type": "code",
   "execution_count": null,
   "metadata": {},
   "outputs": [],
   "source": []
  }
 ],
 "metadata": {
  "kernelspec": {
   "display_name": "Python 3",
   "language": "python",
   "name": "python3"
  },
  "language_info": {
   "codemirror_mode": {
    "name": "ipython",
    "version": 3
   },
   "file_extension": ".py",
   "mimetype": "text/x-python",
   "name": "python",
   "nbconvert_exporter": "python",
   "pygments_lexer": "ipython3",
   "version": "3.7.4"
  }
 },
 "nbformat": 4,
 "nbformat_minor": 2
}
