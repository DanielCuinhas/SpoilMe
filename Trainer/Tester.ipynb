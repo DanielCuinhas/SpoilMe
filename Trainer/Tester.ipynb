{
 "cells": [
  {
   "cell_type": "code",
   "execution_count": 1,
   "metadata": {},
   "outputs": [
    {
     "name": "stderr",
     "output_type": "stream",
     "text": [
      "Using TensorFlow backend.\n",
      "/media/Datos/Documentos/Python/anacondas/anaconda3/lib/python3.7/site-packages/dask/config.py:168: YAMLLoadWarning: calling yaml.load() without Loader=... is deprecated, as the default Loader is unsafe. Please read https://msg.pyyaml.org/load for full details.\n",
      "  data = yaml.load(f.read()) or {}\n"
     ]
    }
   ],
   "source": [
    "import re\n",
    "import unidecode\n",
    "import numpy as np\n",
    "from pprint import pprint\n",
    "from keras.models import load_model\n",
    "import json\n",
    "\n",
    "def clean_str(s):\n",
    "    s = unidecode.unidecode(s)\n",
    "    s = re.sub(r'\\t','',s)\n",
    "    s = re.sub(r'\\r','',s)\n",
    "    s = s.lower()\n",
    "    s = re.sub(r'[^a-z0-9]',' ',s)\n",
    "    s = re.sub(r' +',' ',s)\n",
    "    return s.strip()\n",
    "\n",
    "\n",
    "def pad_features(reviews_ints, seq_length):\n",
    "    features = np.zeros((len(reviews_ints), seq_length), dtype=int)\n",
    "    for i, row in enumerate(reviews_ints):\n",
    "        features[i, :len(row)] = np.array(row)[:seq_length]\n",
    "    return features\n",
    "\n",
    "\n",
    "def spoilme(s):\n",
    "    s = re.sub(r'\\n','.',s)\n",
    "    s = s.split('.')\n",
    "    s = [clean_str(i) for i in s]\n",
    "    s = [f for f in s if f]\n",
    "    s_ = [[vocab_to_int.get(j,1) for j in k.split()] for k in s]\n",
    "    s_ = pad_features(s_,seq_length)\n",
    "    predictions = model.predict(s_)\n",
    "    predictions_ = [p[1] for p in predictions]\n",
    "    predictions_cat = predictions.argmax(axis=1)\n",
    "    result = list(zip(s, predictions_))\n",
    "    spoilers = [r for r in result if r[1]>=0.5]\n",
    "#     pprint(list(enumerate(spoilers)))\n",
    "    return list(enumerate(spoilers)), predictions\n"
   ]
  },
  {
   "cell_type": "code",
   "execution_count": 2,
   "metadata": {},
   "outputs": [
    {
     "name": "stderr",
     "output_type": "stream",
     "text": [
      "WARNING: Logging before flag parsing goes to stderr.\n",
      "W0419 20:53:40.418114 140142435346240 deprecation_wrapper.py:119] From /media/Datos/Documentos/Python/anacondas/anaconda3/lib/python3.7/site-packages/keras/backend/tensorflow_backend.py:58: The name tf.get_default_graph is deprecated. Please use tf.compat.v1.get_default_graph instead.\n",
      "\n",
      "W0419 20:53:40.421193 140142435346240 deprecation_wrapper.py:119] From /media/Datos/Documentos/Python/anacondas/anaconda3/lib/python3.7/site-packages/keras/backend/tensorflow_backend.py:442: The name tf.placeholder is deprecated. Please use tf.compat.v1.placeholder instead.\n",
      "\n",
      "W0419 20:53:40.426892 140142435346240 deprecation_wrapper.py:119] From /media/Datos/Documentos/Python/anacondas/anaconda3/lib/python3.7/site-packages/keras/backend/tensorflow_backend.py:3543: The name tf.random_uniform is deprecated. Please use tf.random.uniform instead.\n",
      "\n",
      "W0419 20:53:40.635403 140142435346240 deprecation_wrapper.py:119] From /media/Datos/Documentos/Python/anacondas/anaconda3/lib/python3.7/site-packages/keras/backend/tensorflow_backend.py:153: The name tf.get_default_session is deprecated. Please use tf.compat.v1.get_default_session instead.\n",
      "\n",
      "W0419 20:53:40.636136 140142435346240 deprecation_wrapper.py:119] From /media/Datos/Documentos/Python/anacondas/anaconda3/lib/python3.7/site-packages/keras/backend/tensorflow_backend.py:158: The name tf.ConfigProto is deprecated. Please use tf.compat.v1.ConfigProto instead.\n",
      "\n",
      "W0419 20:53:40.704490 140142435346240 deprecation_wrapper.py:119] From /media/Datos/Documentos/Python/anacondas/anaconda3/lib/python3.7/site-packages/keras/optimizers.py:711: The name tf.train.Optimizer is deprecated. Please use tf.compat.v1.train.Optimizer instead.\n",
      "\n",
      "W0419 20:53:40.714106 140142435346240 deprecation.py:323] From /media/Datos/Documentos/Python/anacondas/anaconda3/lib/python3.7/site-packages/tensorflow/python/ops/nn_impl.py:180: add_dispatch_support.<locals>.wrapper (from tensorflow.python.ops.array_ops) is deprecated and will be removed in a future version.\n",
      "Instructions for updating:\n",
      "Use tf.where in 2.0, which has the same broadcast rule as np.where\n",
      "W0419 20:53:40.918875 140142435346240 deprecation.py:506] From /media/Datos/Documentos/Python/anacondas/anaconda3/lib/python3.7/site-packages/keras/backend/tensorflow_backend.py:625: calling Constant.__init__ (from tensorflow.python.ops.init_ops) with dtype is deprecated and will be removed in a future version.\n",
      "Instructions for updating:\n",
      "Call initializer instance with the dtype argument instead of passing it to the constructor\n"
     ]
    }
   ],
   "source": [
    "model=load_model('results/model_weights.h5')\n",
    "\n",
    "with open('results/config.json') as json_data_file:\n",
    "    config = json.load(json_data_file)\n",
    "\n",
    "vocab_to_int=config['vocab2int']\n",
    "seq_length=config['max_len']"
   ]
  },
  {
   "cell_type": "code",
   "execution_count": 13,
   "metadata": {},
   "outputs": [],
   "source": [
    "s='''\n",
    "Sinopsis\n",
    "Una historia multigeneracional de una familia taiwanesa que abarca desde 1950 hasta la actualidad. (FILMAFFINITY)\n",
    "Críticas\n",
    "\"Un drama de inmigrantes emotivo y magnífico (...) Yang imbuye a su historia, honesta y semi-ficcional, con las evocadoras tradiciones narrativas del cine asiático moderno, desde Wong Kar Wai hasta Edward Yang\" \n",
    "Eric Kohn: IndieWire \n",
    "\"Soporífera, caótica y poco reflexiva (...) Parece resuelta a no desarrollar ninguno de sus personajes secundarios\" \n",
    "Inkoo Kang: The Hollywood Reporter \n",
    "\"Romántica, reflexiva y desgarradora, todo a la vez (...) Un excelente debut de Yang\" \n",
    "Sandy Schaefer: Screen Rant \n",
    "\"En lo que se destaca de otros dramas de su estilo, es en su conmovedora exploración de las consecuencias emocionales, pocas veces vistas, de los que persiguen decididamente el Sueño Americano\" \n",
    "Katie Rife: AV Club \n",
    "\"Aunque imperfecta, describe un aspecto de la experiencia [inmigratoria] de primera generación en América, que rara vez se ha captado en pantalla\" \n",
    "Peter Debruge: Variety \n",
    "\"Hay una verdadera tensión emocional en la manera en la que Yang conjura el pasado (...) Una película seria y bien interpretada sobre el sacrificio y el arrepentimiento (...) Puntuación: ★★★ (sobre 5)\" \n",
    "Peter Bradshaw: The Guardian \n",
    "\"Es fácil entender que la decepción de su protagonista podría desgastarle, pero la frialdad con la que trata a la mujer resulta abrupta e injustificada. La obra es especialmente tosca cuando aborda escenas en la actualidad.\" \n",
    "Kristen Yoonsoo Kim: The New York Times \n",
    "\"Una película consciente, emotiva y en algunos momentos realmente brillante que demuestra el potencial de Yang en el mundo del cine.\" \n",
    "\n",
    "Lo único un poco malo es cuando Darth Vader le dice a Luke que es su padre. Leia muered haci la mitad7\n",
    "\n",
    "'''"
   ]
  },
  {
   "cell_type": "code",
   "execution_count": 14,
   "metadata": {},
   "outputs": [
    {
     "data": {
      "text/plain": [
       "([(0,\n",
       "   ('una historia multigeneracional de una familia taiwanesa que abarca desde 1950 hasta la actualidad',\n",
       "    0.6315879)),\n",
       "  (1,\n",
       "   ('hay una verdadera tension emocional en la manera en la que yang conjura el pasado',\n",
       "    0.79690874)),\n",
       "  (2,\n",
       "   ('lo unico un poco malo es cuando darth vader le dice a luke que es su padre',\n",
       "    0.98849666))],\n",
       " array([[0.9866457 , 0.01319093],\n",
       "        [0.37144417, 0.6315879 ],\n",
       "        [0.94842696, 0.05098277],\n",
       "        [0.9529059 , 0.04644957],\n",
       "        [0.8846874 , 0.11550134],\n",
       "        [0.9645051 , 0.0362936 ],\n",
       "        [0.9334388 , 0.0658583 ],\n",
       "        [0.9628952 , 0.03682217],\n",
       "        [0.7759041 , 0.22481161],\n",
       "        [0.8669429 , 0.13156548],\n",
       "        [0.9472349 , 0.05306283],\n",
       "        [0.9447323 , 0.0550814 ],\n",
       "        [0.81807613, 0.180199  ],\n",
       "        [0.5896745 , 0.41342485],\n",
       "        [0.79412425, 0.20393598],\n",
       "        [0.9775379 , 0.02302316],\n",
       "        [0.88957655, 0.10935518],\n",
       "        [0.20629585, 0.79690874],\n",
       "        [0.53390694, 0.4690246 ],\n",
       "        [0.9330862 , 0.06606853],\n",
       "        [0.5640911 , 0.4336203 ],\n",
       "        [0.6103532 , 0.3968224 ],\n",
       "        [0.7148877 , 0.2867868 ],\n",
       "        [0.73272604, 0.26518023],\n",
       "        [0.9629805 , 0.03802987],\n",
       "        [0.0125487 , 0.98849666],\n",
       "        [0.5519268 , 0.44656202]], dtype=float32))"
      ]
     },
     "execution_count": 14,
     "metadata": {},
     "output_type": "execute_result"
    }
   ],
   "source": [
    "spoilme(s)"
   ]
  },
  {
   "cell_type": "code",
   "execution_count": null,
   "metadata": {},
   "outputs": [],
   "source": []
  }
 ],
 "metadata": {
  "kernelspec": {
   "display_name": "Python 3",
   "language": "python",
   "name": "python3"
  },
  "language_info": {
   "codemirror_mode": {
    "name": "ipython",
    "version": 3
   },
   "file_extension": ".py",
   "mimetype": "text/x-python",
   "name": "python",
   "nbconvert_exporter": "python",
   "pygments_lexer": "ipython3",
   "version": "3.7.4"
  }
 },
 "nbformat": 4,
 "nbformat_minor": 2
}
