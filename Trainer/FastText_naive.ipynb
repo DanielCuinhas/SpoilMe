{
 "cells": [
  {
   "cell_type": "code",
   "execution_count": 1,
   "metadata": {},
   "outputs": [
    {
     "name": "stderr",
     "output_type": "stream",
     "text": [
      "Using TensorFlow backend.\n",
      "/media/Datos/Documentos/Python/anacondas/anaconda3/lib/python3.7/site-packages/dask/config.py:168: YAMLLoadWarning: calling yaml.load() without Loader=... is deprecated, as the default Loader is unsafe. Please read https://msg.pyyaml.org/load for full details.\n",
      "  data = yaml.load(f.read()) or {}\n"
     ]
    }
   ],
   "source": [
    "import numpy as np\n",
    "import pandas as pd\n",
    "from sklearn.metrics import f1_score,recall_score,precision_score, accuracy_score\n",
    "from sklearn.metrics import roc_auc_score, classification_report, confusion_matrix\n",
    "from keras.preprocessing.sequence import pad_sequences\n",
    "from keras.utils.np_utils import to_categorical\n",
    "from keras.layers import Embedding, GlobalAveragePooling1D, Dense\n",
    "from keras.models import Sequential\n",
    "from keras.callbacks import EarlyStopping\n",
    "import itertools\n",
    "from collections import Counter"
   ]
  },
  {
   "cell_type": "code",
   "execution_count": 2,
   "metadata": {},
   "outputs": [],
   "source": [
    "train = pd.read_csv('data/train.csv')\n",
    "val = pd.read_csv('data/val.csv')\n",
    "test = pd.read_csv('data/test.csv')"
   ]
  },
  {
   "cell_type": "code",
   "execution_count": 3,
   "metadata": {
    "scrolled": true
   },
   "outputs": [
    {
     "data": {
      "text/html": [
       "<div>\n",
       "<style scoped>\n",
       "    .dataframe tbody tr th:only-of-type {\n",
       "        vertical-align: middle;\n",
       "    }\n",
       "\n",
       "    .dataframe tbody tr th {\n",
       "        vertical-align: top;\n",
       "    }\n",
       "\n",
       "    .dataframe thead th {\n",
       "        text-align: right;\n",
       "    }\n",
       "</style>\n",
       "<table border=\"1\" class=\"dataframe\">\n",
       "  <thead>\n",
       "    <tr style=\"text-align: right;\">\n",
       "      <th></th>\n",
       "      <th>len</th>\n",
       "      <th>spoiler</th>\n",
       "      <th>text</th>\n",
       "    </tr>\n",
       "  </thead>\n",
       "  <tbody>\n",
       "    <tr>\n",
       "      <th>0</th>\n",
       "      <td>9</td>\n",
       "      <td>1</td>\n",
       "      <td>enserio casi eyaculo cuando comienza a arder e...</td>\n",
       "    </tr>\n",
       "    <tr>\n",
       "      <th>1</th>\n",
       "      <td>16</td>\n",
       "      <td>1</td>\n",
       "      <td>me faltan los miticos filibusteros y marineros...</td>\n",
       "    </tr>\n",
       "    <tr>\n",
       "      <th>2</th>\n",
       "      <td>79</td>\n",
       "      <td>0</td>\n",
       "      <td>el cine clasico es un invento de los estudios ...</td>\n",
       "    </tr>\n",
       "    <tr>\n",
       "      <th>3</th>\n",
       "      <td>4</td>\n",
       "      <td>0</td>\n",
       "      <td>si queremos concretar mas</td>\n",
       "    </tr>\n",
       "    <tr>\n",
       "      <th>4</th>\n",
       "      <td>2</td>\n",
       "      <td>1</td>\n",
       "      <td>darth plagueis</td>\n",
       "    </tr>\n",
       "    <tr>\n",
       "      <th>5</th>\n",
       "      <td>617</td>\n",
       "      <td>1</td>\n",
       "      <td>un ejemplo la escena en la que el joker hace e...</td>\n",
       "    </tr>\n",
       "    <tr>\n",
       "      <th>6</th>\n",
       "      <td>38</td>\n",
       "      <td>0</td>\n",
       "      <td>vengo de verla con un amigo y se nos ha hecho ...</td>\n",
       "    </tr>\n",
       "    <tr>\n",
       "      <th>7</th>\n",
       "      <td>33</td>\n",
       "      <td>0</td>\n",
       "      <td>sobre la escena que se ve tiene toda la pinta ...</td>\n",
       "    </tr>\n",
       "    <tr>\n",
       "      <th>8</th>\n",
       "      <td>12</td>\n",
       "      <td>1</td>\n",
       "      <td>de los viejos yendo a ayudar xdd estaba como m...</td>\n",
       "    </tr>\n",
       "    <tr>\n",
       "      <th>9</th>\n",
       "      <td>23</td>\n",
       "      <td>0</td>\n",
       "      <td>a veces es mejor no buscarle 5 pies al gato o ...</td>\n",
       "    </tr>\n",
       "    <tr>\n",
       "      <th>10</th>\n",
       "      <td>21</td>\n",
       "      <td>0</td>\n",
       "      <td>1712 en primer lugar comentar que esta pelicul...</td>\n",
       "    </tr>\n",
       "    <tr>\n",
       "      <th>11</th>\n",
       "      <td>10</td>\n",
       "      <td>0</td>\n",
       "      <td>putas precuelas si ya sabemos que al final spo...</td>\n",
       "    </tr>\n",
       "    <tr>\n",
       "      <th>12</th>\n",
       "      <td>3</td>\n",
       "      <td>0</td>\n",
       "      <td>3620 3621 spoiler</td>\n",
       "    </tr>\n",
       "    <tr>\n",
       "      <th>13</th>\n",
       "      <td>28</td>\n",
       "      <td>0</td>\n",
       "      <td>vista es una mala pelicula no para nada en mi ...</td>\n",
       "    </tr>\n",
       "    <tr>\n",
       "      <th>14</th>\n",
       "      <td>37</td>\n",
       "      <td>0</td>\n",
       "      <td>116 yo creo que no lo hizo 117 has pensado que...</td>\n",
       "    </tr>\n",
       "    <tr>\n",
       "      <th>15</th>\n",
       "      <td>11</td>\n",
       "      <td>0</td>\n",
       "      <td>me molo bastante esta escena una actuacion de ...</td>\n",
       "    </tr>\n",
       "    <tr>\n",
       "      <th>16</th>\n",
       "      <td>12</td>\n",
       "      <td>1</td>\n",
       "      <td>asarse por la piedra a toda la pandilla de uno...</td>\n",
       "    </tr>\n",
       "    <tr>\n",
       "      <th>17</th>\n",
       "      <td>187</td>\n",
       "      <td>1</td>\n",
       "      <td>lo de que sea un ano no es viable y punto no d...</td>\n",
       "    </tr>\n",
       "    <tr>\n",
       "      <th>18</th>\n",
       "      <td>10</td>\n",
       "      <td>0</td>\n",
       "      <td>142 yo quiero que no quitan la escena de spoiler</td>\n",
       "    </tr>\n",
       "    <tr>\n",
       "      <th>19</th>\n",
       "      <td>131</td>\n",
       "      <td>0</td>\n",
       "      <td>lennoniano dijo max renn dijo would you rather...</td>\n",
       "    </tr>\n",
       "    <tr>\n",
       "      <th>20</th>\n",
       "      <td>7</td>\n",
       "      <td>1</td>\n",
       "      <td>a imagen era una pantalla del pan</td>\n",
       "    </tr>\n",
       "    <tr>\n",
       "      <th>21</th>\n",
       "      <td>41</td>\n",
       "      <td>0</td>\n",
       "      <td>supongo que si hank pym estuviera todavia en f...</td>\n",
       "    </tr>\n",
       "    <tr>\n",
       "      <th>22</th>\n",
       "      <td>10</td>\n",
       "      <td>0</td>\n",
       "      <td>los participantes del juego son inutiles o q s...</td>\n",
       "    </tr>\n",
       "    <tr>\n",
       "      <th>23</th>\n",
       "      <td>8</td>\n",
       "      <td>0</td>\n",
       "      <td>alexander supertramp christopher mccandless de...</td>\n",
       "    </tr>\n",
       "    <tr>\n",
       "      <th>24</th>\n",
       "      <td>21</td>\n",
       "      <td>1</td>\n",
       "      <td>misiles que se come pueden destruir una barric...</td>\n",
       "    </tr>\n",
       "    <tr>\n",
       "      <th>25</th>\n",
       "      <td>23</td>\n",
       "      <td>1</td>\n",
       "      <td>y cuando se queda solo whit con el otro y se l...</td>\n",
       "    </tr>\n",
       "    <tr>\n",
       "      <th>26</th>\n",
       "      <td>74</td>\n",
       "      <td>0</td>\n",
       "      <td>me sorprende la cantidad de gente que de repen...</td>\n",
       "    </tr>\n",
       "    <tr>\n",
       "      <th>27</th>\n",
       "      <td>2</td>\n",
       "      <td>0</td>\n",
       "      <td>tho r</td>\n",
       "    </tr>\n",
       "    <tr>\n",
       "      <th>28</th>\n",
       "      <td>4</td>\n",
       "      <td>1</td>\n",
       "      <td>antes de morir hudson</td>\n",
       "    </tr>\n",
       "    <tr>\n",
       "      <th>29</th>\n",
       "      <td>41</td>\n",
       "      <td>0</td>\n",
       "      <td>acabo de ver dead ringer 6 10 entretenida aunq...</td>\n",
       "    </tr>\n",
       "    <tr>\n",
       "      <th>...</th>\n",
       "      <td>...</td>\n",
       "      <td>...</td>\n",
       "      <td>...</td>\n",
       "    </tr>\n",
       "    <tr>\n",
       "      <th>76066</th>\n",
       "      <td>40</td>\n",
       "      <td>1</td>\n",
       "      <td>realmente no creo que se hayan pasado con grin...</td>\n",
       "    </tr>\n",
       "    <tr>\n",
       "      <th>76067</th>\n",
       "      <td>28</td>\n",
       "      <td>0</td>\n",
       "      <td>en general me ha gustado le doy un aprobado co...</td>\n",
       "    </tr>\n",
       "    <tr>\n",
       "      <th>76068</th>\n",
       "      <td>3</td>\n",
       "      <td>0</td>\n",
       "      <td>5086 also asi</td>\n",
       "    </tr>\n",
       "    <tr>\n",
       "      <th>76069</th>\n",
       "      <td>34</td>\n",
       "      <td>0</td>\n",
       "      <td>yo la verdad ver morir tantos rebeldes que lo ...</td>\n",
       "    </tr>\n",
       "    <tr>\n",
       "      <th>76070</th>\n",
       "      <td>16</td>\n",
       "      <td>0</td>\n",
       "      <td>simplemente wall e la tengo en dvd up y tangle...</td>\n",
       "    </tr>\n",
       "    <tr>\n",
       "      <th>76071</th>\n",
       "      <td>3</td>\n",
       "      <td>0</td>\n",
       "      <td>1652 conjetura chorra</td>\n",
       "    </tr>\n",
       "    <tr>\n",
       "      <th>76072</th>\n",
       "      <td>32</td>\n",
       "      <td>1</td>\n",
       "      <td>en serio la madre se tira 30 anos en el mundo ...</td>\n",
       "    </tr>\n",
       "    <tr>\n",
       "      <th>76073</th>\n",
       "      <td>9</td>\n",
       "      <td>1</td>\n",
       "      <td>wonder woman https www filmaffinity com es fil...</td>\n",
       "    </tr>\n",
       "    <tr>\n",
       "      <th>76074</th>\n",
       "      <td>4</td>\n",
       "      <td>0</td>\n",
       "      <td>443 spoiler avengers reunanse</td>\n",
       "    </tr>\n",
       "    <tr>\n",
       "      <th>76075</th>\n",
       "      <td>30</td>\n",
       "      <td>0</td>\n",
       "      <td>la gente que dice que le parece un toston pued...</td>\n",
       "    </tr>\n",
       "    <tr>\n",
       "      <th>76076</th>\n",
       "      <td>36</td>\n",
       "      <td>1</td>\n",
       "      <td>dracula vs el ejercito que empieza a usar a lo...</td>\n",
       "    </tr>\n",
       "    <tr>\n",
       "      <th>76077</th>\n",
       "      <td>27</td>\n",
       "      <td>1</td>\n",
       "      <td>el unico problema que le veo al haber tanto pe...</td>\n",
       "    </tr>\n",
       "    <tr>\n",
       "      <th>76078</th>\n",
       "      <td>16</td>\n",
       "      <td>0</td>\n",
       "      <td>acabo de venir del cine de verla y me gusto mu...</td>\n",
       "    </tr>\n",
       "    <tr>\n",
       "      <th>76079</th>\n",
       "      <td>3</td>\n",
       "      <td>0</td>\n",
       "      <td>5 may penitente</td>\n",
       "    </tr>\n",
       "    <tr>\n",
       "      <th>76080</th>\n",
       "      <td>21</td>\n",
       "      <td>1</td>\n",
       "      <td>de repente pierde el sable justo se fabrica la...</td>\n",
       "    </tr>\n",
       "    <tr>\n",
       "      <th>76081</th>\n",
       "      <td>16</td>\n",
       "      <td>0</td>\n",
       "      <td>ayer fui a ver la pelicula asi que si no quere...</td>\n",
       "    </tr>\n",
       "    <tr>\n",
       "      <th>76082</th>\n",
       "      <td>1</td>\n",
       "      <td>0</td>\n",
       "      <td>brightburn</td>\n",
       "    </tr>\n",
       "    <tr>\n",
       "      <th>76083</th>\n",
       "      <td>10</td>\n",
       "      <td>0</td>\n",
       "      <td>pd me la esperaba mas ciencia ficcion le sobra...</td>\n",
       "    </tr>\n",
       "    <tr>\n",
       "      <th>76084</th>\n",
       "      <td>26</td>\n",
       "      <td>1</td>\n",
       "      <td>basta mirar la primera pelicula en la cual el ...</td>\n",
       "    </tr>\n",
       "    <tr>\n",
       "      <th>76085</th>\n",
       "      <td>52</td>\n",
       "      <td>0</td>\n",
       "      <td>editado y por cierto 2102 ya he dado informe a...</td>\n",
       "    </tr>\n",
       "    <tr>\n",
       "      <th>76086</th>\n",
       "      <td>72</td>\n",
       "      <td>0</td>\n",
       "      <td>la rebelion de los simios continua con la hist...</td>\n",
       "    </tr>\n",
       "    <tr>\n",
       "      <th>76087</th>\n",
       "      <td>66</td>\n",
       "      <td>0</td>\n",
       "      <td>dijo que lo anoraba muchisimo el poder poner m...</td>\n",
       "    </tr>\n",
       "    <tr>\n",
       "      <th>76088</th>\n",
       "      <td>6</td>\n",
       "      <td>0</td>\n",
       "      <td>empezare con un par de cortos</td>\n",
       "    </tr>\n",
       "    <tr>\n",
       "      <th>76089</th>\n",
       "      <td>2</td>\n",
       "      <td>0</td>\n",
       "      <td>dos preguntas</td>\n",
       "    </tr>\n",
       "    <tr>\n",
       "      <th>76090</th>\n",
       "      <td>17</td>\n",
       "      <td>1</td>\n",
       "      <td>me hubiera encantado que se reunieran con emil...</td>\n",
       "    </tr>\n",
       "    <tr>\n",
       "      <th>76091</th>\n",
       "      <td>33</td>\n",
       "      <td>0</td>\n",
       "      <td>lo que mas me preocupaba era lo de la cuarta p...</td>\n",
       "    </tr>\n",
       "    <tr>\n",
       "      <th>76092</th>\n",
       "      <td>23</td>\n",
       "      <td>1</td>\n",
       "      <td>el detonante de las revueltas es el asesinato ...</td>\n",
       "    </tr>\n",
       "    <tr>\n",
       "      <th>76093</th>\n",
       "      <td>38</td>\n",
       "      <td>1</td>\n",
       "      <td>muy triste el final pero da una nueva vida a l...</td>\n",
       "    </tr>\n",
       "    <tr>\n",
       "      <th>76094</th>\n",
       "      <td>25</td>\n",
       "      <td>0</td>\n",
       "      <td>banderas nunca ha sido santo de mi devocion la...</td>\n",
       "    </tr>\n",
       "    <tr>\n",
       "      <th>76095</th>\n",
       "      <td>8</td>\n",
       "      <td>0</td>\n",
       "      <td>pd alguien conoce mas pelis por el estilo</td>\n",
       "    </tr>\n",
       "  </tbody>\n",
       "</table>\n",
       "<p>76096 rows × 3 columns</p>\n",
       "</div>"
      ],
      "text/plain": [
       "       len  spoiler                                               text\n",
       "0        9        1  enserio casi eyaculo cuando comienza a arder e...\n",
       "1       16        1  me faltan los miticos filibusteros y marineros...\n",
       "2       79        0  el cine clasico es un invento de los estudios ...\n",
       "3        4        0                          si queremos concretar mas\n",
       "4        2        1                                     darth plagueis\n",
       "5      617        1  un ejemplo la escena en la que el joker hace e...\n",
       "6       38        0  vengo de verla con un amigo y se nos ha hecho ...\n",
       "7       33        0  sobre la escena que se ve tiene toda la pinta ...\n",
       "8       12        1  de los viejos yendo a ayudar xdd estaba como m...\n",
       "9       23        0  a veces es mejor no buscarle 5 pies al gato o ...\n",
       "10      21        0  1712 en primer lugar comentar que esta pelicul...\n",
       "11      10        0  putas precuelas si ya sabemos que al final spo...\n",
       "12       3        0                                  3620 3621 spoiler\n",
       "13      28        0  vista es una mala pelicula no para nada en mi ...\n",
       "14      37        0  116 yo creo que no lo hizo 117 has pensado que...\n",
       "15      11        0  me molo bastante esta escena una actuacion de ...\n",
       "16      12        1  asarse por la piedra a toda la pandilla de uno...\n",
       "17     187        1  lo de que sea un ano no es viable y punto no d...\n",
       "18      10        0   142 yo quiero que no quitan la escena de spoiler\n",
       "19     131        0  lennoniano dijo max renn dijo would you rather...\n",
       "20       7        1                  a imagen era una pantalla del pan\n",
       "21      41        0  supongo que si hank pym estuviera todavia en f...\n",
       "22      10        0  los participantes del juego son inutiles o q s...\n",
       "23       8        0  alexander supertramp christopher mccandless de...\n",
       "24      21        1  misiles que se come pueden destruir una barric...\n",
       "25      23        1  y cuando se queda solo whit con el otro y se l...\n",
       "26      74        0  me sorprende la cantidad de gente que de repen...\n",
       "27       2        0                                              tho r\n",
       "28       4        1                              antes de morir hudson\n",
       "29      41        0  acabo de ver dead ringer 6 10 entretenida aunq...\n",
       "...    ...      ...                                                ...\n",
       "76066   40        1  realmente no creo que se hayan pasado con grin...\n",
       "76067   28        0  en general me ha gustado le doy un aprobado co...\n",
       "76068    3        0                                      5086 also asi\n",
       "76069   34        0  yo la verdad ver morir tantos rebeldes que lo ...\n",
       "76070   16        0  simplemente wall e la tengo en dvd up y tangle...\n",
       "76071    3        0                              1652 conjetura chorra\n",
       "76072   32        1  en serio la madre se tira 30 anos en el mundo ...\n",
       "76073    9        1  wonder woman https www filmaffinity com es fil...\n",
       "76074    4        0                      443 spoiler avengers reunanse\n",
       "76075   30        0  la gente que dice que le parece un toston pued...\n",
       "76076   36        1  dracula vs el ejercito que empieza a usar a lo...\n",
       "76077   27        1  el unico problema que le veo al haber tanto pe...\n",
       "76078   16        0  acabo de venir del cine de verla y me gusto mu...\n",
       "76079    3        0                                    5 may penitente\n",
       "76080   21        1  de repente pierde el sable justo se fabrica la...\n",
       "76081   16        0  ayer fui a ver la pelicula asi que si no quere...\n",
       "76082    1        0                                         brightburn\n",
       "76083   10        0  pd me la esperaba mas ciencia ficcion le sobra...\n",
       "76084   26        1  basta mirar la primera pelicula en la cual el ...\n",
       "76085   52        0  editado y por cierto 2102 ya he dado informe a...\n",
       "76086   72        0  la rebelion de los simios continua con la hist...\n",
       "76087   66        0  dijo que lo anoraba muchisimo el poder poner m...\n",
       "76088    6        0                      empezare con un par de cortos\n",
       "76089    2        0                                      dos preguntas\n",
       "76090   17        1  me hubiera encantado que se reunieran con emil...\n",
       "76091   33        0  lo que mas me preocupaba era lo de la cuarta p...\n",
       "76092   23        1  el detonante de las revueltas es el asesinato ...\n",
       "76093   38        1  muy triste el final pero da una nueva vida a l...\n",
       "76094   25        0  banderas nunca ha sido santo de mi devocion la...\n",
       "76095    8        0          pd alguien conoce mas pelis por el estilo\n",
       "\n",
       "[76096 rows x 3 columns]"
      ]
     },
     "execution_count": 3,
     "metadata": {},
     "output_type": "execute_result"
    }
   ],
   "source": [
    "train"
   ]
  },
  {
   "cell_type": "code",
   "execution_count": 4,
   "metadata": {},
   "outputs": [],
   "source": [
    "train['review'] = train['text'].apply(lambda s: s.split())\n",
    "test['review'] = test['text'].apply(lambda s: s.split())\n",
    "val['review'] = val['text'].apply(lambda s: s.split())\n"
   ]
  },
  {
   "cell_type": "code",
   "execution_count": 5,
   "metadata": {},
   "outputs": [],
   "source": [
    "reviews_train = train.review.tolist()\n",
    "reviews_val = val.review.tolist()\n",
    "reviews_test = test.review.tolist()"
   ]
  },
  {
   "cell_type": "code",
   "execution_count": 6,
   "metadata": {},
   "outputs": [],
   "source": [
    "# Creacion del diccionario (con los datos de train solamente para evitar leakage)\n",
    "\n",
    "words= list(itertools.chain.from_iterable(reviews_train))\n",
    "counts = Counter(words)\n",
    "vocab = sorted(counts, key=counts.get, reverse=True)\n",
    "\n",
    "\n",
    "vocab_to_int = {word: ii for ii, word in enumerate(vocab, 2)}\n",
    "vocab_to_int['[PAD]']=0\n",
    "vocab_to_int['[UNK]']=1\n",
    "\n",
    "int2vocab={i:w for w,i in vocab_to_int.items()}\n"
   ]
  },
  {
   "cell_type": "code",
   "execution_count": 7,
   "metadata": {},
   "outputs": [
    {
     "data": {
      "text/plain": [
       "89620"
      ]
     },
     "execution_count": 7,
     "metadata": {},
     "output_type": "execute_result"
    }
   ],
   "source": [
    "len(vocab_to_int)"
   ]
  },
  {
   "cell_type": "code",
   "execution_count": 7,
   "metadata": {},
   "outputs": [],
   "source": [
    "x_train = []\n",
    "for review in reviews_train:\n",
    "    x_train.append([vocab_to_int[word] for word in review])\n",
    "    \n",
    "x_val = []\n",
    "for review in reviews_val:\n",
    "    x_val.append([vocab_to_int.get(word,1) for word in review])\n",
    "    \n",
    "x_test = []\n",
    "for review in reviews_test:\n",
    "    x_test.append([vocab_to_int.get(word,1) for word in review])"
   ]
  },
  {
   "cell_type": "code",
   "execution_count": 8,
   "metadata": {},
   "outputs": [],
   "source": [
    "def pad_features(reviews_ints, seq_length):\n",
    "    ''' Return features of review_ints, where each review is padded with 0's \n",
    "        or truncated to the input seq_length.\n",
    "    '''\n",
    "    \n",
    "    # getting the correct rows x cols shape\n",
    "    features = np.zeros((len(reviews_ints), seq_length), dtype=int)\n",
    "\n",
    "    # for each review, I grab that review and \n",
    "    for i, row in enumerate(reviews_ints):\n",
    "        features[i, :len(row)] = np.array(row)[:seq_length]\n",
    "    \n",
    "    return features"
   ]
  },
  {
   "cell_type": "code",
   "execution_count": 9,
   "metadata": {},
   "outputs": [
    {
     "data": {
      "text/plain": [
       "224.0"
      ]
     },
     "execution_count": 9,
     "metadata": {},
     "output_type": "execute_result"
    }
   ],
   "source": [
    "np.percentile(train.len.values,98.5)"
   ]
  },
  {
   "cell_type": "code",
   "execution_count": 10,
   "metadata": {},
   "outputs": [],
   "source": [
    "seq_length = 200\n",
    "\n",
    "x_train = pad_features(x_train, seq_length)\n",
    "y_train = train.spoiler.values\n",
    "y_train = to_categorical(y_train)\n",
    "\n",
    "x_val = pad_features(x_val, seq_length)\n",
    "y_val = val.spoiler.values\n",
    "y_val = to_categorical(y_val)\n",
    "\n",
    "x_test = pad_features(x_test, seq_length)\n",
    "y_test = test.spoiler.values\n",
    "y_test = to_categorical(y_test)"
   ]
  },
  {
   "cell_type": "code",
   "execution_count": 11,
   "metadata": {},
   "outputs": [
    {
     "name": "stdout",
     "output_type": "stream",
     "text": [
      "Number of positive and negative reviews in traing and validation set\n",
      "[49706. 26390.]\n",
      "[15386.  8395.]\n"
     ]
    }
   ],
   "source": [
    "\n",
    "print('Number of positive and negative reviews in traing and validation set')\n",
    "print(y_train.sum(axis=0))\n",
    "print(y_test.sum(axis=0))"
   ]
  },
  {
   "cell_type": "code",
   "execution_count": 12,
   "metadata": {},
   "outputs": [
    {
     "name": "stderr",
     "output_type": "stream",
     "text": [
      "WARNING: Logging before flag parsing goes to stderr.\n",
      "W0415 18:44:37.163565 139707012126528 deprecation_wrapper.py:119] From /media/Datos/Documentos/Python/anacondas/anaconda3/lib/python3.7/site-packages/keras/backend/tensorflow_backend.py:58: The name tf.get_default_graph is deprecated. Please use tf.compat.v1.get_default_graph instead.\n",
      "\n",
      "W0415 18:44:37.166036 139707012126528 deprecation_wrapper.py:119] From /media/Datos/Documentos/Python/anacondas/anaconda3/lib/python3.7/site-packages/keras/backend/tensorflow_backend.py:442: The name tf.placeholder is deprecated. Please use tf.compat.v1.placeholder instead.\n",
      "\n",
      "W0415 18:44:37.169320 139707012126528 deprecation_wrapper.py:119] From /media/Datos/Documentos/Python/anacondas/anaconda3/lib/python3.7/site-packages/keras/backend/tensorflow_backend.py:3543: The name tf.random_uniform is deprecated. Please use tf.random.uniform instead.\n",
      "\n",
      "W0415 18:44:37.225982 139707012126528 deprecation_wrapper.py:119] From /media/Datos/Documentos/Python/anacondas/anaconda3/lib/python3.7/site-packages/keras/optimizers.py:711: The name tf.train.Optimizer is deprecated. Please use tf.compat.v1.train.Optimizer instead.\n",
      "\n",
      "W0415 18:44:37.251905 139707012126528 deprecation_wrapper.py:119] From /media/Datos/Documentos/Python/anacondas/anaconda3/lib/python3.7/site-packages/keras/backend/tensorflow_backend.py:2819: The name tf.log is deprecated. Please use tf.math.log instead.\n",
      "\n",
      "W0415 18:44:37.258387 139707012126528 deprecation.py:323] From /media/Datos/Documentos/Python/anacondas/anaconda3/lib/python3.7/site-packages/tensorflow/python/ops/nn_impl.py:180: add_dispatch_support.<locals>.wrapper (from tensorflow.python.ops.array_ops) is deprecated and will be removed in a future version.\n",
      "Instructions for updating:\n",
      "Use tf.where in 2.0, which has the same broadcast rule as np.where\n"
     ]
    },
    {
     "name": "stdout",
     "output_type": "stream",
     "text": [
      "_________________________________________________________________\n",
      "Layer (type)                 Output Shape              Param #   \n",
      "=================================================================\n",
      "embedding_1 (Embedding)      (None, None, 16)          1433920   \n",
      "_________________________________________________________________\n",
      "global_average_pooling1d_1 ( (None, 16)                0         \n",
      "_________________________________________________________________\n",
      "dense_1 (Dense)              (None, 16)                272       \n",
      "_________________________________________________________________\n",
      "dense_2 (Dense)              (None, 2)                 34        \n",
      "=================================================================\n",
      "Total params: 1,434,226\n",
      "Trainable params: 1,434,226\n",
      "Non-trainable params: 0\n",
      "_________________________________________________________________\n"
     ]
    }
   ],
   "source": [
    "model = Sequential()\n",
    "model.add(Embedding(len(vocab_to_int), 16))\n",
    "model.add(GlobalAveragePooling1D())\n",
    "model.add(Dense(16, activation='relu'))\n",
    "model.add(Dense(2, activation='sigmoid'))\n",
    "\n",
    "model.summary()\n",
    "\n",
    "model.compile(optimizer='adam',\n",
    "              loss='binary_crossentropy',\n",
    "              metrics=['accuracy'])\n"
   ]
  },
  {
   "cell_type": "code",
   "execution_count": 13,
   "metadata": {},
   "outputs": [],
   "source": [
    "calls = [EarlyStopping(monitor='val_loss', patience=2)]"
   ]
  },
  {
   "cell_type": "code",
   "execution_count": 14,
   "metadata": {},
   "outputs": [
    {
     "name": "stderr",
     "output_type": "stream",
     "text": [
      "W0415 18:44:38.651326 139707012126528 deprecation_wrapper.py:119] From /media/Datos/Documentos/Python/anacondas/anaconda3/lib/python3.7/site-packages/keras/backend/tensorflow_backend.py:899: The name tf.assign_add is deprecated. Please use tf.compat.v1.assign_add instead.\n",
      "\n",
      "W0415 18:44:38.666726 139707012126528 deprecation.py:506] From /media/Datos/Documentos/Python/anacondas/anaconda3/lib/python3.7/site-packages/keras/backend/tensorflow_backend.py:625: calling Constant.__init__ (from tensorflow.python.ops.init_ops) with dtype is deprecated and will be removed in a future version.\n",
      "Instructions for updating:\n",
      "Call initializer instance with the dtype argument instead of passing it to the constructor\n"
     ]
    },
    {
     "name": "stdout",
     "output_type": "stream",
     "text": [
      "Train on 76096 samples, validate on 19024 samples\n",
      "Epoch 1/100\n",
      "76096/76096 [==============================] - 29s - loss: 0.5322 - acc: 0.7370 - val_loss: 0.4552 - val_acc: 0.7792\n",
      "Epoch 2/100\n",
      "76096/76096 [==============================] - 29s - loss: 0.3963 - acc: 0.8237 - val_loss: 0.3839 - val_acc: 0.8317\n",
      "Epoch 3/100\n",
      "76096/76096 [==============================] - 29s - loss: 0.3388 - acc: 0.8550 - val_loss: 0.3596 - val_acc: 0.8414\n",
      "Epoch 4/100\n",
      "76096/76096 [==============================] - 29s - loss: 0.3044 - acc: 0.8727 - val_loss: 0.3519 - val_acc: 0.8439\n",
      "Epoch 5/100\n",
      "76096/76096 [==============================] - 29s - loss: 0.2773 - acc: 0.8870 - val_loss: 0.3427 - val_acc: 0.8528\n",
      "Epoch 6/100\n",
      "76096/76096 [==============================] - 29s - loss: 0.2525 - acc: 0.8992 - val_loss: 0.3430 - val_acc: 0.8582\n",
      "Epoch 7/100\n",
      "76096/76096 [==============================] - 29s - loss: 0.2311 - acc: 0.9096 - val_loss: 0.3441 - val_acc: 0.8576\n",
      "Epoch 8/100\n",
      "76096/76096 [==============================] - 29s - loss: 0.2101 - acc: 0.9191 - val_loss: 0.3514 - val_acc: 0.8586\n"
     ]
    },
    {
     "data": {
      "text/plain": [
       "<keras.callbacks.History at 0x7f100c277a50>"
      ]
     },
     "execution_count": 14,
     "metadata": {},
     "output_type": "execute_result"
    }
   ],
   "source": [
    "model.fit(x_train, y_train, \n",
    "          validation_data=(x_val, y_val),\n",
    "          callbacks=calls,\n",
    "          epochs=100, \n",
    "          batch_size=50)"
   ]
  },
  {
   "cell_type": "code",
   "execution_count": 15,
   "metadata": {
    "scrolled": true
   },
   "outputs": [
    {
     "data": {
      "text/plain": [
       "[0.3611341979428089, 0.8532652117186321]"
      ]
     },
     "execution_count": 15,
     "metadata": {},
     "output_type": "execute_result"
    }
   ],
   "source": [
    "model.evaluate(x_test, y_test, verbose=0)\n"
   ]
  },
  {
   "cell_type": "code",
   "execution_count": 16,
   "metadata": {},
   "outputs": [],
   "source": [
    "preds_round = model.predict(x_test).round().argmax(axis=1)\n",
    "y_test_round = y_test.argmax(axis=1)"
   ]
  },
  {
   "cell_type": "code",
   "execution_count": 17,
   "metadata": {},
   "outputs": [],
   "source": [
    "precision = precision_score(y_test_round, preds_round)\n",
    "recall = recall_score(y_test_round, preds_round)\n",
    "f1 = f1_score(y_test_round, preds_round)\n",
    "cnf_test = confusion_matrix(y_test_round, preds_round)\n",
    "auc = roc_auc_score(y_test_round, preds_round)"
   ]
  },
  {
   "cell_type": "code",
   "execution_count": 18,
   "metadata": {},
   "outputs": [
    {
     "data": {
      "text/plain": [
       "0.8251127022010077"
      ]
     },
     "execution_count": 18,
     "metadata": {},
     "output_type": "execute_result"
    }
   ],
   "source": [
    "precision"
   ]
  },
  {
   "cell_type": "code",
   "execution_count": 19,
   "metadata": {},
   "outputs": [
    {
     "data": {
      "text/plain": [
       "0.7412745681953544"
      ]
     },
     "execution_count": 19,
     "metadata": {},
     "output_type": "execute_result"
    }
   ],
   "source": [
    "recall"
   ]
  },
  {
   "cell_type": "code",
   "execution_count": 20,
   "metadata": {},
   "outputs": [
    {
     "data": {
      "text/plain": [
       "0.78094999058794"
      ]
     },
     "execution_count": 20,
     "metadata": {},
     "output_type": "execute_result"
    }
   ],
   "source": [
    "f1"
   ]
  },
  {
   "cell_type": "code",
   "execution_count": 21,
   "metadata": {},
   "outputs": [
    {
     "data": {
      "text/plain": [
       "array([[14067,  1319],\n",
       "       [ 2172,  6223]])"
      ]
     },
     "execution_count": 21,
     "metadata": {},
     "output_type": "execute_result"
    }
   ],
   "source": [
    "cnf_test"
   ]
  },
  {
   "cell_type": "code",
   "execution_count": 22,
   "metadata": {},
   "outputs": [
    {
     "data": {
      "text/plain": [
       "0.8277736418254816"
      ]
     },
     "execution_count": 22,
     "metadata": {},
     "output_type": "execute_result"
    }
   ],
   "source": [
    "auc"
   ]
  },
  {
   "cell_type": "code",
   "execution_count": null,
   "metadata": {},
   "outputs": [],
   "source": []
  },
  {
   "cell_type": "code",
   "execution_count": 23,
   "metadata": {},
   "outputs": [],
   "source": [
    "import re\n",
    "import unidecode\n",
    "from pprint import pprint\n",
    "\n",
    "def clean_str(s):\n",
    "    \n",
    "    s = unidecode.unidecode(s)\n",
    "    s = re.sub(r'\\t','',s)\n",
    "    s = re.sub(r'\\r','',s)\n",
    "    s = s.lower()\n",
    "    s = re.sub(r'[^a-z0-9]',' ',s)\n",
    "    s = re.sub(r' +',' ',s)\n",
    "\n",
    "    return s.strip()"
   ]
  },
  {
   "cell_type": "code",
   "execution_count": 24,
   "metadata": {},
   "outputs": [],
   "source": [
    "def spoilme(s):\n",
    "    s = re.sub(r'\\n','.',s)\n",
    "    s = s.split('.')\n",
    "    s = [clean_str(i) for i in s]\n",
    "    s = [f for f in s if f]\n",
    "    s_ = [[vocab_to_int.get(j,1) for j in k.split()] for k in s]\n",
    "    s_ = pad_features(s_,seq_length)\n",
    "    predictions = model.predict(s_)\n",
    "    predictions_ = predictions.argmax(axis=1)\n",
    "    result = list(zip(s, predictions_))\n",
    "    spoilers = [r[0] for r in result if r[1]==1]\n",
    "    print(len(spoilers)/len(result))\n",
    "    return spoilers , predictions"
   ]
  },
  {
   "cell_type": "code",
   "execution_count": 25,
   "metadata": {},
   "outputs": [],
   "source": [
    "s='''\n",
    "\n",
    "Tras haber pasado la mayor parte de su vida explorando la jungla junto a sus padres, nada podría haber preparado a Dora para la aventura más peligrosa a la que jamás se ha enfrentado: ¡el instituto!. Exploradora hasta el final, Dora no tarda en ponerse al frente de un equipo formado por Botas (su mejor amigo, un mono), Diego, un misterioso habitante de la jungla y un desorganizado grupo de adolescentes en una aventura en la que deberán salvar a sus padres y resolver el misterio oculto tras una ciudad perdida de oro.\n",
    "\n",
    "'''"
   ]
  },
  {
   "cell_type": "code",
   "execution_count": 26,
   "metadata": {
    "scrolled": true
   },
   "outputs": [
    {
     "name": "stdout",
     "output_type": "stream",
     "text": [
      "1.0\n"
     ]
    },
    {
     "data": {
      "text/plain": [
       "(['tras haber pasado la mayor parte de su vida explorando la jungla junto a sus padres nada podria haber preparado a dora para la aventura mas peligrosa a la que jamas se ha enfrentado el instituto',\n",
       "  'exploradora hasta el final dora no tarda en ponerse al frente de un equipo formado por botas su mejor amigo un mono diego un misterioso habitante de la jungla y un desorganizado grupo de adolescentes en una aventura en la que deberan salvar a sus padres y resolver el misterio oculto tras una ciudad perdida de oro'],\n",
       " array([[0.34572867, 0.6567872 ],\n",
       "        [0.07382895, 0.9271571 ]], dtype=float32))"
      ]
     },
     "execution_count": 26,
     "metadata": {},
     "output_type": "execute_result"
    }
   ],
   "source": [
    "spoilme(s)"
   ]
  },
  {
   "cell_type": "code",
   "execution_count": 27,
   "metadata": {},
   "outputs": [],
   "source": [
    "import json\n",
    "\n",
    "config={}\n",
    "config['vocab2int']=vocab_to_int\n",
    "config['max_len']=seq_length\n",
    "\n",
    "\n",
    "with open('results/config.json', 'w') as outfile:\n",
    "    json.dump(config, outfile)\n",
    "\n",
    "model.save('results/model_weights.h5',overwrite=True)"
   ]
  },
  {
   "cell_type": "code",
   "execution_count": null,
   "metadata": {},
   "outputs": [],
   "source": []
  }
 ],
 "metadata": {
  "kernelspec": {
   "display_name": "Python 3",
   "language": "python",
   "name": "python3"
  },
  "language_info": {
   "codemirror_mode": {
    "name": "ipython",
    "version": 3
   },
   "file_extension": ".py",
   "mimetype": "text/x-python",
   "name": "python",
   "nbconvert_exporter": "python",
   "pygments_lexer": "ipython3",
   "version": "3.7.4"
  }
 },
 "nbformat": 4,
 "nbformat_minor": 2
}
